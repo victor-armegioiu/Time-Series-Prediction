{
  "nbformat": 4,
  "nbformat_minor": 0,
  "metadata": {
    "colab": {
      "name": "VK Energie ( Encoder - Decoder - Luong Attention - Seasonal Splitting).ipynb",
      "provenance": [],
      "collapsed_sections": [
        "uph2zf8vc0fQ"
      ],
      "toc_visible": true,
      "authorship_tag": "ABX9TyNu8WYKcUrCGL6kTqfrEFjY",
      "include_colab_link": true
    },
    "kernelspec": {
      "name": "python3",
      "display_name": "Python 3"
    },
    "accelerator": "GPU"
  },
  "cells": [
    {
      "cell_type": "markdown",
      "metadata": {
        "id": "view-in-github",
        "colab_type": "text"
      },
      "source": [
        "<a href=\"https://colab.research.google.com/github/victor-armegioiu/Time-Series-Prediction/blob/main/VK_Energie_(_Encoder_Decoder_Luong_Attention_Seasonal_Splitting).ipynb\" target=\"_parent\"><img src=\"https://colab.research.google.com/assets/colab-badge.svg\" alt=\"Open In Colab\"/></a>"
      ]
    },
    {
      "cell_type": "markdown",
      "metadata": {
        "id": "uph2zf8vc0fQ"
      },
      "source": [
        "# Praktikum Project (VK Energie - Forecasting Heat Demand)"
      ]
    },
    {
      "cell_type": "markdown",
      "metadata": {
        "id": "D4XNcEHNdAUu"
      },
      "source": [
        "# Boilerplate \n",
        "\n",
        "This section does necesary imports, loads/parses the data."
      ]
    },
    {
      "cell_type": "code",
      "metadata": {
        "id": "WxS_3Li63y8S"
      },
      "source": [
        "# Non-neural based math imports.\n",
        "import numpy as np\n",
        "\n",
        "import scipy \n",
        "from scipy import stats\n",
        "\n",
        "from sklearn.preprocessing import StandardScaler, MinMaxScaler\n",
        "from sklearn.model_selection import train_test_split"
      ],
      "execution_count": null,
      "outputs": []
    },
    {
      "cell_type": "code",
      "metadata": {
        "id": "SE2Wellp38cv"
      },
      "source": [
        "# Data loading\n",
        "import pandas as pd\n",
        "import csv"
      ],
      "execution_count": null,
      "outputs": []
    },
    {
      "cell_type": "code",
      "metadata": {
        "id": "oHTXJGQjO2pA"
      },
      "source": [
        "# Drawing stuff.\n",
        "import matplotlib\n",
        "import matplotlib.pyplot as plt\n",
        "%matplotlib inline\n",
        "#matplotlib.style.use('ggplot')"
      ],
      "execution_count": null,
      "outputs": []
    },
    {
      "cell_type": "code",
      "metadata": {
        "id": "lZFD7pYxdjmZ"
      },
      "source": [
        "# Neural networks stuff.\n",
        "import torch\n",
        "from torch.autograd import Variable\n",
        "import torch.nn.functional as F\n",
        "import torch.utils.data as Data"
      ],
      "execution_count": null,
      "outputs": []
    },
    {
      "cell_type": "code",
      "metadata": {
        "id": "-HdkIun_PXQb"
      },
      "source": [
        "df = pd.DataFrame()\n",
        "reader = csv.reader(\n",
        "    open(\"Oberbayern.csv\"), delimiter=\";\")\n",
        "\n",
        "rows = [row for row in reader]\n",
        "df = df.append(rows[1:])"
      ],
      "execution_count": null,
      "outputs": []
    },
    {
      "cell_type": "code",
      "metadata": {
        "id": "Ir9lyF5pQmNG"
      },
      "source": [
        "df.columns = ['TimestampUtc', 'Heat Demand', 'Ambient Temperature',  \n",
        "              'Solar Irradiance']"
      ],
      "execution_count": null,
      "outputs": []
    },
    {
      "cell_type": "code",
      "metadata": {
        "id": "QfRsrPw3VHDJ"
      },
      "source": [
        "for column in df.columns[1:]:\n",
        "  df[column] = df[column].astype(float)"
      ],
      "execution_count": null,
      "outputs": []
    },
    {
      "cell_type": "markdown",
      "metadata": {
        "id": "bkCOz0_jdLis"
      },
      "source": [
        "# Data Analysis\n",
        "\n",
        "This section covers the following analyses on the dataset:\n",
        "\n",
        "\n",
        "*   Peaking at samples from the data.\n",
        "*   Missing values count\n",
        "*   Overall statistics on the regressors/regressands (mean, max, std, etc). Plots for the histograms.\n",
        "*   Correlation analysis - Making sure the correlations between the features and the targets make sense, as well as ensuring we don't have too strong a linear correlation between the features. \n",
        "\n"
      ]
    },
    {
      "cell_type": "code",
      "metadata": {
        "id": "7xDrqvnJQexE",
        "colab": {
          "base_uri": "https://localhost:8080/",
          "height": 419
        },
        "outputId": "0dff63c4-90fc-4ac5-fbff-b10018036396"
      },
      "source": [
        "df"
      ],
      "execution_count": null,
      "outputs": [
        {
          "output_type": "execute_result",
          "data": {
            "text/html": [
              "<div>\n",
              "<style scoped>\n",
              "    .dataframe tbody tr th:only-of-type {\n",
              "        vertical-align: middle;\n",
              "    }\n",
              "\n",
              "    .dataframe tbody tr th {\n",
              "        vertical-align: top;\n",
              "    }\n",
              "\n",
              "    .dataframe thead th {\n",
              "        text-align: right;\n",
              "    }\n",
              "</style>\n",
              "<table border=\"1\" class=\"dataframe\">\n",
              "  <thead>\n",
              "    <tr style=\"text-align: right;\">\n",
              "      <th></th>\n",
              "      <th>TimestampUtc</th>\n",
              "      <th>Heat Demand</th>\n",
              "      <th>Ambient Temperature</th>\n",
              "      <th>Solar Irradiance</th>\n",
              "    </tr>\n",
              "  </thead>\n",
              "  <tbody>\n",
              "    <tr>\n",
              "      <th>0</th>\n",
              "      <td>2020-02-26 17:00:00+01:00</td>\n",
              "      <td>5715.7325</td>\n",
              "      <td>1.370000</td>\n",
              "      <td>0.050000</td>\n",
              "    </tr>\n",
              "    <tr>\n",
              "      <th>1</th>\n",
              "      <td>2020-02-26 18:00:00+01:00</td>\n",
              "      <td>5810.5000</td>\n",
              "      <td>0.880000</td>\n",
              "      <td>0.000000</td>\n",
              "    </tr>\n",
              "    <tr>\n",
              "      <th>2</th>\n",
              "      <td>2020-02-26 19:00:00+01:00</td>\n",
              "      <td>6059.9000</td>\n",
              "      <td>0.670000</td>\n",
              "      <td>0.000000</td>\n",
              "    </tr>\n",
              "    <tr>\n",
              "      <th>3</th>\n",
              "      <td>2020-02-26 20:00:00+01:00</td>\n",
              "      <td>6114.0850</td>\n",
              "      <td>0.600000</td>\n",
              "      <td>0.000000</td>\n",
              "    </tr>\n",
              "    <tr>\n",
              "      <th>4</th>\n",
              "      <td>2020-02-26 21:00:00+01:00</td>\n",
              "      <td>6027.0525</td>\n",
              "      <td>0.540000</td>\n",
              "      <td>0.000000</td>\n",
              "    </tr>\n",
              "    <tr>\n",
              "      <th>...</th>\n",
              "      <td>...</td>\n",
              "      <td>...</td>\n",
              "      <td>...</td>\n",
              "      <td>...</td>\n",
              "    </tr>\n",
              "    <tr>\n",
              "      <th>5941</th>\n",
              "      <td>2020-11-02 12:00:00+01:00</td>\n",
              "      <td>3431.5000</td>\n",
              "      <td>16.787415</td>\n",
              "      <td>5.718750</td>\n",
              "    </tr>\n",
              "    <tr>\n",
              "      <th>5942</th>\n",
              "      <td>2020-11-02 13:00:00+01:00</td>\n",
              "      <td>3221.2500</td>\n",
              "      <td>16.833160</td>\n",
              "      <td>7.406250</td>\n",
              "    </tr>\n",
              "    <tr>\n",
              "      <th>5943</th>\n",
              "      <td>2020-11-02 14:00:00+01:00</td>\n",
              "      <td>3153.7500</td>\n",
              "      <td>16.731232</td>\n",
              "      <td>2.312500</td>\n",
              "    </tr>\n",
              "    <tr>\n",
              "      <th>5944</th>\n",
              "      <td>2020-11-02 15:00:00+01:00</td>\n",
              "      <td>2795.1250</td>\n",
              "      <td>16.396759</td>\n",
              "      <td>7.906250</td>\n",
              "    </tr>\n",
              "    <tr>\n",
              "      <th>5945</th>\n",
              "      <td>2020-11-02 16:00:00+01:00</td>\n",
              "      <td>1974.0000</td>\n",
              "      <td>16.483002</td>\n",
              "      <td>1.140625</td>\n",
              "    </tr>\n",
              "  </tbody>\n",
              "</table>\n",
              "<p>5946 rows × 4 columns</p>\n",
              "</div>"
            ],
            "text/plain": [
              "                   TimestampUtc  ...  Solar Irradiance\n",
              "0     2020-02-26 17:00:00+01:00  ...          0.050000\n",
              "1     2020-02-26 18:00:00+01:00  ...          0.000000\n",
              "2     2020-02-26 19:00:00+01:00  ...          0.000000\n",
              "3     2020-02-26 20:00:00+01:00  ...          0.000000\n",
              "4     2020-02-26 21:00:00+01:00  ...          0.000000\n",
              "...                         ...  ...               ...\n",
              "5941  2020-11-02 12:00:00+01:00  ...          5.718750\n",
              "5942  2020-11-02 13:00:00+01:00  ...          7.406250\n",
              "5943  2020-11-02 14:00:00+01:00  ...          2.312500\n",
              "5944  2020-11-02 15:00:00+01:00  ...          7.906250\n",
              "5945  2020-11-02 16:00:00+01:00  ...          1.140625\n",
              "\n",
              "[5946 rows x 4 columns]"
            ]
          },
          "metadata": {
            "tags": []
          },
          "execution_count": 8
        }
      ]
    },
    {
      "cell_type": "code",
      "metadata": {
        "id": "22k6oXE1RiyA",
        "colab": {
          "base_uri": "https://localhost:8080/"
        },
        "outputId": "91b52d92-def7-446f-d49d-00bbf73e9525"
      },
      "source": [
        "df.isnull().sum()"
      ],
      "execution_count": null,
      "outputs": [
        {
          "output_type": "execute_result",
          "data": {
            "text/plain": [
              "TimestampUtc           0\n",
              "Heat Demand            0\n",
              "Ambient Temperature    0\n",
              "Solar Irradiance       0\n",
              "dtype: int64"
            ]
          },
          "metadata": {
            "tags": []
          },
          "execution_count": 12
        }
      ]
    },
    {
      "cell_type": "code",
      "metadata": {
        "id": "48QbG6f1X4ma",
        "colab": {
          "base_uri": "https://localhost:8080/"
        },
        "outputId": "77083c6a-50ab-475c-910e-18432bc0dc2a"
      },
      "source": [
        "df.columns"
      ],
      "execution_count": null,
      "outputs": [
        {
          "output_type": "execute_result",
          "data": {
            "text/plain": [
              "Index(['TimestampUtc', 'Heat Demand', 'Ambient Temperature',\n",
              "       'Solar Irradiance'],\n",
              "      dtype='object')"
            ]
          },
          "metadata": {
            "tags": []
          },
          "execution_count": 36
        }
      ]
    },
    {
      "cell_type": "code",
      "metadata": {
        "id": "_2CO-n7qQj_G"
      },
      "source": [
        "# Compute and store pairwise correlations between features and\n",
        "# targets.\n",
        "correlations = {}\n",
        "for col1 in df.columns[1:]:\n",
        "  for col2 in df.columns[1:]:\n",
        "    if col1 != col2:\n",
        "      r2_correlation_coeff = stats.pearsonr(df[col1], df[col2])[0]\n",
        "      correlations[col1, col2] = r2_correlation_coeff"
      ],
      "execution_count": null,
      "outputs": []
    },
    {
      "cell_type": "code",
      "metadata": {
        "id": "4tMqblL4Yk3Z",
        "colab": {
          "base_uri": "https://localhost:8080/",
          "height": 851
        },
        "outputId": "2cc2107d-22c6-461a-9441-92f2926fdee6"
      },
      "source": [
        "# Plot all pairwise features/targets/\n",
        "relevant_columns = df.columns[1:] \n",
        "\n",
        "for i in range(len(relevant_columns)):\n",
        "  for j in range(i + 1, len(relevant_columns)):\n",
        "    col_i, col_j = relevant_columns[i], relevant_columns[j]\n",
        "    plt.scatter(df[col_i], df[col_j])\n",
        "    plt.xlabel(col_i)\n",
        "    plt.ylabel(col_j)\n",
        "\n",
        "    r2_correlation_coeff = round(correlations[col_i, col_j], 3)\n",
        "    plt.title('R2 correlation coefficient: {}'.format(r2_correlation_coeff))\n",
        "    plt.show()\n"
      ],
      "execution_count": null,
      "outputs": [
        {
          "output_type": "display_data",
          "data": {
            "image/png": "[encoded data removed]",
            "text/plain": [
              "<Figure size 432x288 with 1 Axes>"
            ]
          },
          "metadata": {
            "tags": [],
            "needs_background": "light"
          }
        },
        {
          "output_type": "display_data",
          "data": {
            "image/png": "[encoded data removed]",
            "text/plain": [
              "<Figure size 432x288 with 1 Axes>"
            ]
          },
          "metadata": {
            "tags": [],
            "needs_background": "light"
          }
        },
        {
          "output_type": "display_data",
          "data": {
            "image/png": "[encoded data removed]",
            "text/plain": [
              "<Figure size 432x288 with 1 Axes>"
            ]
          },
          "metadata": {
            "tags": [],
            "needs_background": "light"
          }
        }
      ]
    },
    {
      "cell_type": "code",
      "metadata": {
        "id": "wnUC6mU6Vl9y",
        "colab": {
          "base_uri": "https://localhost:8080/",
          "height": 1000
        },
        "outputId": "d7394a3b-025e-4043-ee67-24aacea52ef6"
      },
      "source": [
        "for column in df.columns[1:]:\n",
        "  print(df[column].describe())\n",
        "  plt.hist(df[column], bins=500)\n",
        "  plt.xlabel(column)\n",
        "  plt.ylabel('Counts')\n",
        "  plt.show()\n",
        "  print()"
      ],
      "execution_count": null,
      "outputs": [
        {
          "output_type": "stream",
          "text": [
            "count    5946.000000\n",
            "mean     2753.058015\n",
            "std      1530.114730\n",
            "min        43.000000\n",
            "25%      1514.583328\n",
            "50%      2222.491250\n",
            "75%      3754.158808\n",
            "max      9681.533203\n",
            "Name: Heat Demand, dtype: float64\n"
          ],
          "name": "stdout"
        },
        {
          "output_type": "display_data",
          "data": {
            "image/png": "[encoded data removed]",
            "text/plain": [
              "<Figure size 432x288 with 1 Axes>"
            ]
          },
          "metadata": {
            "tags": [],
            "needs_background": "light"
          }
        },
        {
          "output_type": "stream",
          "text": [
            "\n",
            "count    5946.000000\n",
            "mean       13.007976\n",
            "std         6.339653\n",
            "min        -5.020000\n",
            "25%         8.600000\n",
            "50%        13.198389\n",
            "75%        17.370000\n",
            "max        31.371857\n",
            "Name: Ambient Temperature, dtype: float64\n"
          ],
          "name": "stdout"
        },
        {
          "output_type": "display_data",
          "data": {
            "image/png": "[encoded data removed]",
            "text/plain": [
              "<Figure size 432x288 with 1 Axes>"
            ]
          },
          "metadata": {
            "tags": [],
            "needs_background": "light"
          }
        },
        {
          "output_type": "stream",
          "text": [
            "\n",
            "count    5946.000000\n",
            "mean      105.020707\n",
            "std       184.026273\n",
            "min        -0.260000\n",
            "25%         0.000000\n",
            "50%         1.812500\n",
            "75%       131.907500\n",
            "max       787.470000\n",
            "Name: Solar Irradiance, dtype: float64\n"
          ],
          "name": "stdout"
        },
        {
          "output_type": "display_data",
          "data": {
            "image/png": "[encoded data removed]",
            "text/plain": [
              "<Figure size 432x288 with 1 Axes>"
            ]
          },
          "metadata": {
            "tags": [],
            "needs_background": "light"
          }
        },
        {
          "output_type": "stream",
          "text": [
            "\n"
          ],
          "name": "stdout"
        }
      ]
    },
    {
      "cell_type": "markdown",
      "metadata": {
        "id": "duPE-KIhd9Cj"
      },
      "source": [
        "# Building datasets for training\n",
        "\n",
        "This section covers the setup needed for creating datasets than can be fed to Pytorch NNs. We also do some preprocessing shift/scale our inputs."
      ]
    },
    {
      "cell_type": "code",
      "metadata": {
        "id": "SCBebg5ZoDvN"
      },
      "source": [
        "def DfTrainTestSplitter(df, test_proportion=0.2, as_numpy=True):\n",
        "  \"\"\"Split dataframe into train and test data.\n",
        "  \n",
        "  In order to have the test distribution as close as possible to th\n",
        "  train distribution, we split the initial datafram into 4 chunks,\n",
        "  one corresponding from each season.\n",
        "\n",
        "  We build the test set by concatenating random samples from each season.\n",
        "  \"\"\"\n",
        "  cnt_test = int(test_proportion * len(df))\n",
        "  season_cnt = 4\n",
        "  df_train, df_test = None, None\n",
        "\n",
        "  for i in range(season_cnt):\n",
        "    left_idx = i * int(len(df) / season_cnt)\n",
        "    right_idx = min(int(left_idx + cnt_test // 4.0), len(df) - 2)\n",
        "    \n",
        "    if df_test is None:\n",
        "      df_test = df[left_idx: right_idx + 1]\n",
        "    else:\n",
        "      df_test = pd.concat([df_test, df[left_idx: right_idx + 1]])\n",
        "\n",
        "  df_train = pd.concat([df, df_test]).drop_duplicates(keep=False)\n",
        "  if as_numpy:\n",
        "   return df_train.to_numpy()[:, 1:],  df_test.to_numpy()[:, 1:]\n",
        "  return df_train, df_test"
      ],
      "execution_count": null,
      "outputs": []
    },
    {
      "cell_type": "code",
      "metadata": {
        "id": "eT0h10RvgG2k"
      },
      "source": [
        "train_data, test_data = DfTrainTestSplitter(df, test_proportion=0.1)\n",
        "X_train, y_train = (train_data[:, [1, 2]].astype(float),\n",
        "                    train_data[:, 0].astype(float))\n",
        "\n",
        "X_test, y_test = (test_data[:, [1, 2]].astype(float),\n",
        "                  test_data[:, 0].astype(float))"
      ],
      "execution_count": null,
      "outputs": []
    },
    {
      "cell_type": "code",
      "metadata": {
        "id": "qAhcM4vPgZBE",
        "colab": {
          "base_uri": "https://localhost:8080/"
        },
        "outputId": "7b724fcc-3b0d-4079-f16b-0ae05373bfab"
      },
      "source": [
        "X_train.shape, X_test.shape"
      ],
      "execution_count": null,
      "outputs": [
        {
          "output_type": "execute_result",
          "data": {
            "text/plain": [
              "((5350, 2), (596, 2))"
            ]
          },
          "metadata": {
            "tags": []
          },
          "execution_count": 242
        }
      ]
    },
    {
      "cell_type": "code",
      "metadata": {
        "id": "0WoIeHxbpzcX"
      },
      "source": [
        "scaler = MinMaxScaler().fit(X_train)"
      ],
      "execution_count": null,
      "outputs": []
    },
    {
      "cell_type": "code",
      "metadata": {
        "id": "VQZtL6nxglLY"
      },
      "source": [
        "# Use the same scaler in order to ensure that we don't inject knowledge\n",
        "# about the test distribution in our training biases.\n",
        "X_train = scaler.transform(X_train)\n",
        "X_test = scaler.transform(X_test)"
      ],
      "execution_count": null,
      "outputs": []
    },
    {
      "cell_type": "code",
      "metadata": {
        "id": "lIUpN7Vkwj8A",
        "colab": {
          "base_uri": "https://localhost:8080/",
          "height": 294
        },
        "outputId": "f64f8a09-5fcd-456d-c90a-27ae361a9068"
      },
      "source": [
        "fig, (ax1, ax2) = plt.subplots(1, 2)\n",
        "fig.suptitle('Inputs Train/Test distributions')\n",
        "ax1.hist(X_train, bins=4)\n",
        "ax2.hist(X_test, bins=4)\n",
        "plt.show()"
      ],
      "execution_count": null,
      "outputs": [
        {
          "output_type": "display_data",
          "data": {
            "image/png": "[encoded data removed]",
            "text/plain": [
              "<Figure size 432x288 with 2 Axes>"
            ]
          },
          "metadata": {
            "tags": [],
            "needs_background": "light"
          }
        }
      ]
    },
    {
      "cell_type": "code",
      "metadata": {
        "id": "3ldHY_xK2Y9O"
      },
      "source": [
        "# Scale both dataset by `y_train_max`. Same reasoning\n",
        "# as in using the same scaler on inputs. This is done to avoid\n",
        "# exploding gradients.\n",
        "y_train_max = y_train.max()\n",
        "y_train /= y_train_max\n",
        "y_test /= y_train_max"
      ],
      "execution_count": null,
      "outputs": []
    },
    {
      "cell_type": "code",
      "metadata": {
        "id": "VEdTaSi9w5iC",
        "colab": {
          "base_uri": "https://localhost:8080/",
          "height": 294
        },
        "outputId": "ed125788-633f-4154-d488-9f5ef86f491d"
      },
      "source": [
        "fig, (ax1, ax2) = plt.subplots(1, 2)\n",
        "fig.suptitle('Labels Train/Test distributions')\n",
        "ax1.hist(y_train, bins=100)\n",
        "ax2.hist(y_test, bins=100)\n",
        "plt.show()"
      ],
      "execution_count": null,
      "outputs": [
        {
          "output_type": "display_data",
          "data": {
            "image/png": "[encoded data removed]",
            "text/plain": [
              "<Figure size 432x288 with 2 Axes>"
            ]
          },
          "metadata": {
            "tags": [],
            "needs_background": "light"
          }
        }
      ]
    },
    {
      "cell_type": "markdown",
      "metadata": {
        "id": "yOtg4Bb3lVjN"
      },
      "source": [
        "# Batching Logic \n",
        "\n",
        "This section defines the necessary utilities for producing batches of variable length sequences."
      ]
    },
    {
      "cell_type": "code",
      "metadata": {
        "id": "tWXCuJmTXgYp"
      },
      "source": [
        "def GetInitialBatchIndex(X, input_len, prediction_window_len=48):\n",
        "  \"\"\" \n",
        "      Returns a random index from which to sample `input_len` inputs.\n",
        "      This was written separately so that we can test that it produces an\n",
        "      even distribution among potential starting indices.\n",
        "  \"\"\"\n",
        "  left_idx = np.random.randint(\n",
        "      low=0,\n",
        "      high=max(len(X) - prediction_window_len * 2 - input_len - 1, 1))\n",
        "  right_idx = left_idx + input_len - 1\n",
        "  return left_idx"
      ],
      "execution_count": null,
      "outputs": []
    },
    {
      "cell_type": "code",
      "metadata": {
        "id": "BaOJOfx0bhHs",
        "colab": {
          "base_uri": "https://localhost:8080/",
          "height": 265
        },
        "outputId": "c0de761f-81ae-4a34-b059-df43e07e5bf5"
      },
      "source": [
        "# Confirm that starting indices for bathches are evenly distributed.\n",
        "no_trials = 100000\n",
        "start_indices_samples = []\n",
        "\n",
        "for _ in range(no_trials):\n",
        "  start_indices_samples.append(GetInitialBatchIndex(X_train, 15))\n",
        "\n",
        "plt.hist(start_indices_samples)\n",
        "plt.show()"
      ],
      "execution_count": null,
      "outputs": [
        {
          "output_type": "display_data",
          "data": {
            "image/png": "[encoded data removed]",
            "text/plain": [
              "<Figure size 432x288 with 1 Axes>"
            ]
          },
          "metadata": {
            "tags": [],
            "needs_background": "light"
          }
        }
      ]
    },
    {
      "cell_type": "code",
      "metadata": {
        "id": "jCUO69OREbVh"
      },
      "source": [
        "def GetSample(X, y, input_len, prediction_window_len=48, use_noise_reg=False):\n",
        "  \"\"\"Return a single input sequence and its respective targets.\n",
        "  \n",
        "  Args:\n",
        "    X: np.array from which to extract input sequences.\n",
        "    y: np.array from which to extract the regression targets corresponding\n",
        "       to the selected inputs.\n",
        "    prediction_window_len: length of the prediction window, which describes\n",
        "      how many predictions we have to do for a given input sequence.\n",
        "    use_noise_reg: bool indication whether to inject the labels with noise.\n",
        "\n",
        "  Return:\n",
        "    X_tensor: tensorized inputs.\n",
        "    y_tensor: tensorized targets.\n",
        "\n",
        "  Note, since we can use forecasts, we also include future data in our\n",
        "  sequences.\n",
        "  \"\"\"\n",
        "  left_idx = GetInitialBatchIndex(X, input_len, prediction_window_len)\n",
        "  right_idx = left_idx + input_len - 1\n",
        "\n",
        "  # Add `prediction_window_len` to our right index, since we can use future\n",
        "  # values as well, given that we always expect to have forecasts availabel.\n",
        "  X_tensor = torch.Tensor(X[left_idx : right_idx + 1 + prediction_window_len])\n",
        "  y_tensor = torch.Tensor(\n",
        "      y[right_idx + 1 : right_idx + prediction_window_len + 1])\n",
        "\n",
        "  return X_tensor, InjectGaussianNoise(y_tensor) if use_noise_reg else y_tensor"
      ],
      "execution_count": null,
      "outputs": []
    },
    {
      "cell_type": "code",
      "metadata": {
        "id": "2swVcYlWkhRW"
      },
      "source": [
        "def GetBatch(X, y, batch_size, input_len, device, prediction_window_len=48,\n",
        "             use_noise_reg=False):\n",
        "  Xs, ys = [], []\n",
        "  for _ in range(batch_size):\n",
        "    X_tensor, y_tensor = GetSample(X, y, \n",
        "                                   input_len,\n",
        "                                   prediction_window_len,\n",
        "                                   use_noise_reg)\n",
        "    Xs.append(X_tensor)\n",
        "    ys.append(y_tensor)\n",
        "  return (torch.stack(Xs).to(device),\n",
        "          torch.stack(ys).to(device))"
      ],
      "execution_count": null,
      "outputs": []
    },
    {
      "cell_type": "markdown",
      "metadata": {
        "id": "ic5KL4tghLas"
      },
      "source": [
        "# Neural Models Definitions\n",
        "\n",
        "This section covers defining the classes needed for our regression models:\n",
        "\n",
        "We shall employ a seq2seq approach, where we unroll a Luong attention based decoder step by step, instead of predicting everything at a time.\n",
        "\n"
      ]
    },
    {
      "cell_type": "code",
      "metadata": {
        "id": "ACG1HJkTms5n"
      },
      "source": [
        "def InjectGaussianNoise(X, isotropic_std=0.1):\n",
        "  return torch.normal(mean=X, std=isotropic_std)"
      ],
      "execution_count": null,
      "outputs": []
    },
    {
      "cell_type": "code",
      "metadata": {
        "id": "G0yn9_oW2d4y"
      },
      "source": [
        "class EncoderRNN(torch.nn.Module):\n",
        "    def __init__(self, input_size, hidden_size, n_layers=1):\n",
        "        super(EncoderRNN, self).__init__()\n",
        "        \n",
        "        self.input_size = input_size\n",
        "        self.hidden_size = hidden_size\n",
        "        self.n_layers = n_layers\n",
        "        \n",
        "        self.embedding = torch.nn.Linear(input_size, hidden_size)\n",
        "        self.gru = torch.nn.GRU(hidden_size, hidden_size, n_layers, True, \n",
        "                                batch_first=True)\n",
        "        \n",
        "    def forward(self, inputs, hidden=None):\n",
        "        embedded = self.embedding(inputs)\n",
        "        output, hidden = self.gru(embedded)\n",
        "        return output, hidden"
      ],
      "execution_count": null,
      "outputs": []
    },
    {
      "cell_type": "markdown",
      "metadata": {
        "id": "SP0Uf8g9SHlH"
      },
      "source": [
        "## Attention Layer\n",
        "\n",
        "This layer is to be used as part of the decoding architecture.\n",
        "It basically takes all `encoder_outputs` (denote an output at any given encoder timestep by $h_i\\vert_{i=1}^n$), and for every timestep unrolled by the decoder, it computes an attention weight.\n",
        "\n",
        "Specifically, at decoding step time `t`, the decoder takes its output from its own `GRU` cell, call that $\\bar{h}_t$ and computes a set of weights, via dot products $w_i\\vert_{i=1}^n = Softmax(\\langle \\bar{h}_t, h_i \\rangle_{W}) = Softmax(\\bar{h}_t^T  W h_i$)."
      ]
    },
    {
      "cell_type": "code",
      "metadata": {
        "id": "Xuu8EHJkAF1M"
      },
      "source": [
        "class Attn(torch.nn.Module):\n",
        "    def __init__(self, hidden_size):\n",
        "        super(Attn, self).__init__()\n",
        "        self.hidden_size = hidden_size\n",
        "        self.attn = torch.nn.Linear(self.hidden_size, hidden_size)\n",
        "\n",
        "    def forward(self, hidden, encoder_outputs, batch_size, seq_len):\n",
        "        attn_energies = Variable(torch.zeros(batch_size, seq_len, 1))\n",
        "        for i in range(batch_size):\n",
        "          attn_energies[i] = self.inner_product(hidden.permute(1, 0, 2)[i],\n",
        "                                        encoder_outputs[i])\n",
        "        return F.softmax(attn_energies, dim=1)\n",
        "    \n",
        "    def inner_product(self, hidden, encoder_output):\n",
        "      energies = self.attn(encoder_output)\n",
        "      return torch.mm(energies, hidden.permute(1, 0))        "
      ],
      "execution_count": null,
      "outputs": []
    },
    {
      "cell_type": "code",
      "metadata": {
        "id": "FfCDR5w0_EJg"
      },
      "source": [
        "class AttnDecoderRNN(torch.nn.Module):\n",
        "    def __init__(self, hidden_size, output_size, n_layers=1, dropout_p=0.0,\n",
        "                 device='cpu'):\n",
        "        super(AttnDecoderRNN, self).__init__()\n",
        "        \n",
        "        self.hidden_size = hidden_size\n",
        "        self.output_size = output_size\n",
        "        self.n_layers = n_layers\n",
        "        self.dropout_p = dropout_p\n",
        "        \n",
        "        # Projection matrix for the inputs.\n",
        "        self.embedding = torch.nn.Linear(output_size, hidden_size)\n",
        "\n",
        "        # Decoder has its own GRU cell - we unroll one step at a time, \n",
        "        # hence producing predictions incrementally for 48 time steps.\n",
        "        self.gru = torch.nn.GRU(hidden_size * 2, hidden_size, n_layers,\n",
        "                                dropout=dropout_p, batch_first=True)\n",
        "        \n",
        "        # Project the hidden layer to a scalar, i.e. our prediction.\n",
        "        self.out = torch.nn.Linear(hidden_size * 2, output_size)\n",
        "\n",
        "        # Luong attention mechanism - At each decoding timestep, we create\n",
        "        # a learnable convex combination of the encoder's outputs into a \n",
        "        # single context layer.\n",
        "        self.attn = Attn(hidden_size)\n",
        "        self.device = device\n",
        "    \n",
        "    def forward(self, input, last_context, last_hidden, encoder_outputs,\n",
        "                batch_size, seq_len):    \n",
        "      # This is just embedding the inputs in slightly higher dimensional spaces.\n",
        "      input_embedding = self.embedding(input)\n",
        "      input_embedding = input_embedding[:, None, :]\n",
        "      rnn_input = torch.cat((input_embedding, last_context),\n",
        "                            dim=2)\n",
        "\n",
        "      # This GRU unit decodes all information we've received so far and \n",
        "      # produces the output for this timestep - Keep in mind, the decoder\n",
        "      # is unrolled one timestep at a time.\n",
        "      output, hidden = self.gru(rnn_input, last_hidden)\n",
        "\n",
        "      # Compute attention weights per every sequence in the batch.\n",
        "      # Hence, this produces a tensor of shape [batch_size, seq_len, 1],\n",
        "      # which shows how much the decoder should 'attend' to any given output\n",
        "      # of the encoder.\n",
        "      batch_weights = self.attn(output.permute(1, 0, 2), encoder_outputs,\n",
        "                                batch_size, seq_len).to(self.device)\n",
        "                                \n",
        "      # Compute context vector for this timestep as a weighted sum of \n",
        "      # encoder outputs, based on the attention weights.\n",
        "      context = torch.sum(batch_weights * \n",
        "                          encoder_outputs.to(self.device), dim=1)\n",
        "      context = context[:, None, :]\n",
        "      output = F.relu(self.out(torch.cat((output, context), dim=2)))\n",
        "      \n",
        "      return output, hidden, context\n"
      ],
      "execution_count": null,
      "outputs": []
    },
    {
      "cell_type": "code",
      "metadata": {
        "id": "yxNC_BaUkgAp",
        "colab": {
          "base_uri": "https://localhost:8080/"
        },
        "outputId": "95375b8c-6d14-4487-a887-a87ba1b6acd1"
      },
      "source": [
        "# Sample usage.\n",
        "batch_size = 10\n",
        "X, y = GetBatch(X_train, y_train, batch_size, 12, 'cpu')\n",
        "print('Input/target shape:', X.shape, y.shape)\n",
        "\n",
        "net = EncoderRNN(2, 16).to('cpu')\n",
        "out, hidden = net(X)\n",
        "print('Batched output shape (all hidden states)/Last hidden state shape:',\n",
        "      out.shape, hidden.shape)\n",
        "\n",
        "# Setup decoder - (hidden_size, output_size) = (16, 1)\n",
        "decoder = AttnDecoderRNN(16, 1)\n",
        "\n",
        "# Initializing decoder inputs as zeros.\n",
        "decoder_input = Variable(torch.zeros(batch_size, 1))\n",
        "decoder_context = Variable(torch.zeros(batch_size, 1, decoder.hidden_size))\n",
        "decoder_hidden = hidden \n",
        "\n",
        "# Unroll a few decoder steps to see how this works.\n",
        "# The number 60 == sequence_length + 48, here sequence_length == 12.\n",
        "dec_out, dec_hidden, dec_context = decoder(decoder_input,\n",
        "                                           decoder_context,\n",
        "                                           decoder_hidden,\n",
        "                                           out,\n",
        "                                           batch_size,\n",
        "                                           60)\n",
        "\n",
        "# No teacher forcing - decoder_input == dec_out (previous_output), this uses\n",
        "# its own previous output as input.\n",
        "dec_out, dec_hidden, dec_context = decoder(dec_out.squeeze(1),\n",
        "                                           dec_context,\n",
        "                                           dec_hidden,\n",
        "                                           out, batch_size, 60)\n",
        "\n",
        "# With teacher forcing - this uses what's supposed to be the real targets \n",
        "# for the previous step as input to enforce correctness. Note, that the \n",
        "# column `1` in y[:, 1, None] is arbitrarily selected here for illustration\n",
        "# purposes.\n",
        "dec_out, dec_hidden, dec_context = decoder(y[:, 1, None],\n",
        "                                           dec_context,\n",
        "                                           dec_hidden,\n",
        "                                           out, batch_size, 60)\n",
        "\n",
        "print(dec_out.shape)"
      ],
      "execution_count": null,
      "outputs": [
        {
          "output_type": "stream",
          "text": [
            "Input/target shape: torch.Size([10, 60, 2]) torch.Size([10, 48])\n",
            "Batched output shape (all hidden states)/Last hidden state shape: torch.Size([10, 60, 16]) torch.Size([1, 10, 16])\n",
            "torch.Size([10, 1, 1])\n"
          ],
          "name": "stdout"
        }
      ]
    },
    {
      "cell_type": "markdown",
      "metadata": {
        "id": "qxN44W3ftd1W"
      },
      "source": [
        "# Training/Testing Setup\n",
        "\n",
        "This section covers the training procedure, records training metrics, plots train/test loss curves, and shows how to do inference with a trained model."
      ]
    },
    {
      "cell_type": "code",
      "metadata": {
        "id": "wlK3_EmBs2Jm"
      },
      "source": [
        "def _GetDevice():\n",
        "  return torch.device('cuda') if torch.cuda.is_available() else 'cpu'"
      ],
      "execution_count": null,
      "outputs": []
    },
    {
      "cell_type": "code",
      "metadata": {
        "id": "MbW1w3_Nr0zN"
      },
      "source": [
        "def train(device=_GetDevice(),\n",
        "          epochs=100,\n",
        "          batch_size=32,\n",
        "          prediction_window_len=48,\n",
        "          input_size=2,\n",
        "          hidden_size=16,\n",
        "          output_size=1):\n",
        "\n",
        "  # Encoder, optimizer instantiations.\n",
        "  encoder = EncoderRNN(input_size=input_size,\n",
        "                       hidden_size=hidden_size).to(device)\n",
        "  enc_optimizer = torch.optim.Adam(encoder.parameters(), lr=0.001)\n",
        "\n",
        "  # Decoder, optimizer instantiations.\n",
        "  decoder = AttnDecoderRNN(hidden_size=hidden_size,\n",
        "                           output_size=output_size,\n",
        "                          device=device).to(device)\n",
        "  dec_optimizer = torch.optim.Adam(decoder.parameters(), lr=0.001)\n",
        "\n",
        "  # Regression loss.\n",
        "  mse_loss = torch.nn.MSELoss() \n",
        "\n",
        "  iterations_per_epoch = len(df) // batch_size\n",
        "  train_losses, val_losses = [], []\n",
        "  print(epochs, iterations_per_epoch)\n",
        "\n",
        "  for epoch in range(epochs):\n",
        "    for iter in range(iterations_per_epoch):\n",
        "      enc_optimizer.zero_grad()\n",
        "      dec_optimizer.zero_grad()\n",
        "\n",
        "      # Sample varying sequence lengths to use for prediction.\n",
        "      input_len = np.random.randint(low=5, high=10)\n",
        "      inputs, targets = GetBatch(X_train, y_train,\n",
        "                                batch_size,\n",
        "                                input_len,\n",
        "                                device,\n",
        "                                prediction_window_len,\n",
        "                                False)\n",
        "      \n",
        "      # Use teacher forcing in 50% of the time. If this is `True`, the decoder\n",
        "      # will use the correct label for timestep `t` as an input for timestep\n",
        "      # `t + 1`. Otherwise, the decoder will use its previous output from \n",
        "      # time `t` as input for time `t + 1`. This strikes a good balance since\n",
        "      # the model is forced to produce sensbile outputs, while it\n",
        "      # also learns to extrapolate and generalize from its own predictions.\n",
        "      use_teacher_forcing = np.random.random() >= 0.7\n",
        "      encoder_outputs, encoder_last_hidden = encoder(inputs)\n",
        "\n",
        "      # Prepare initial inputs of the decoder - the previous input and context\n",
        "      # are randomly initialized, but the previous hidden state will be\n",
        "      # initialized as the last hidden state of the encoder.\n",
        "      decoder_input = Variable(torch.randn(batch_size, 1)).to(device)\n",
        "      decoder_context = Variable(torch.zeros(batch_size, 1,\n",
        "                                            decoder.hidden_size)).to(device)\n",
        "      decoder_hidden = encoder_last_hidden.to(device)\n",
        "\n",
        "      # Start decoding, one step at a time.\n",
        "      dec_out, dec_hidden, dec_context = decoder(decoder_input,\n",
        "                                                decoder_context,\n",
        "                                                decoder_hidden,\n",
        "                                                encoder_outputs,\n",
        "                                                batch_size,\n",
        "                                                input_len + 48)\n",
        "      \n",
        "      predictions = [dec_out.squeeze(1)]\n",
        "      for timestep in range(1, prediction_window_len):\n",
        "        if use_teacher_forcing:\n",
        "          # As mentioned before, if teacher forcing is enable, we use the\n",
        "          # right label from the previous timestep as input for the current one.\n",
        "          decoder_input = targets[:, timestep - 1, None]\n",
        "        else:\n",
        "          decoder_input = dec_out.squeeze(1)\n",
        "        dec_out, dec_hidden, dec_context = decoder(decoder_input,\n",
        "                                                  dec_context,\n",
        "                                                  dec_hidden, \n",
        "                                                  encoder_outputs,\n",
        "                                                  batch_size,\n",
        "                                                  input_len + 48)\n",
        "        predictions.append(dec_out.squeeze(1))\n",
        "      predictions = torch.stack(predictions).permute(1, 0, 2).squeeze(-1)\n",
        "      \n",
        "      # Compute and record MSE loss.\n",
        "      train_loss = mse_loss(predictions, targets)\n",
        "      train_losses.append(train_loss)\n",
        "\n",
        "      # Backprop and update parameters.\n",
        "      train_loss.backward()\n",
        "      enc_optimizer.step()\n",
        "      dec_optimizer.step()\n",
        "      \n",
        "      with torch.no_grad():\n",
        "        input, targets = GetBatch(X_test, y_test, batch_size, input_len, device)\n",
        "        predictions = [dec_out.squeeze(1)]\n",
        "        for _ in range(prediction_window_len - 1):\n",
        "          dec_out, dec_hidden, dec_context = decoder(dec_out.squeeze(1),\n",
        "                                                    dec_context,\n",
        "                                                    dec_hidden, \n",
        "                                                    encoder_outputs,\n",
        "                                                    batch_size,\n",
        "                                                    input_len + 48)\n",
        "          predictions.append(dec_out.squeeze(1))\n",
        "        predictions = torch.stack(predictions).permute(1, 0, 2).squeeze(-1)\n",
        "        mae_loss = torch.nn.L1Loss()(predictions, targets) * y_train_max\n",
        "        print('MAE:', mae_loss)\n",
        "\n",
        "        val_loss = mse_loss(predictions, targets)\n",
        "        val_losses.append(val_loss)\n",
        "        print(val_loss.item())    \n",
        "\n",
        "      if epoch % 10 == 0 and iter == iterations_per_epoch % 5 == 0:\n",
        "        print('Epoch:', epoch)\n",
        "        print('Train loss:', train_loss.item())\n",
        "        print('Val loss:', val_loss.item())\n",
        "        print('\\n')\n",
        "  return encoder, decoder, train_losses, val_losses"
      ],
      "execution_count": null,
      "outputs": []
    },
    {
      "cell_type": "code",
      "metadata": {
        "colab": {
          "base_uri": "https://localhost:8080/",
          "height": 1000
        },
        "id": "n02BWBTGtMOl",
        "outputId": "b149275e-2c0e-41fb-e10d-99419fbdda59"
      },
      "source": [
        "# Customize this loop however you prefer.\n",
        "encoder, decoder, train_losses, val_losses = train()"
      ],
      "execution_count": null,
      "outputs": [
        {
          "output_type": "stream",
          "text": [
            "100 185\n",
            "MAE: tensor(2774.0405, device='cuda:0')\n",
            "0.11578216403722763\n",
            "Epoch: 0\n",
            "Train loss: 0.08659429848194122\n",
            "Val loss: 0.11578216403722763\n",
            "\n",
            "\n",
            "MAE: tensor(1622.6304, device='cuda:0')\n",
            "0.042873919010162354\n",
            "MAE: tensor(1491.3876, device='cuda:0')\n",
            "0.04289187118411064\n",
            "MAE: tensor(1408.2216, device='cuda:0')\n",
            "0.040525101125240326\n",
            "MAE: tensor(1493.6637, device='cuda:0')\n",
            "0.04269148409366608\n",
            "MAE: tensor(1133.0305, device='cuda:0')\n",
            "0.024713076651096344\n",
            "MAE: tensor(1323.7289, device='cuda:0')\n",
            "0.028534989804029465\n",
            "MAE: tensor(1332.6292, device='cuda:0')\n",
            "0.027570005506277084\n",
            "MAE: tensor(1413.2712, device='cuda:0')\n",
            "0.027279308065772057\n",
            "MAE: tensor(1406.7767, device='cuda:0')\n",
            "0.027557937428355217\n",
            "MAE: tensor(1683.4091, device='cuda:0')\n",
            "0.03669007867574692\n",
            "MAE: tensor(1784.7566, device='cuda:0')\n",
            "0.040667902678251266\n",
            "MAE: tensor(1588.3551, device='cuda:0')\n",
            "0.033579252660274506\n",
            "MAE: tensor(1692.3167, device='cuda:0')\n",
            "0.03790049999952316\n",
            "MAE: tensor(1605.6313, device='cuda:0')\n",
            "0.034602031111717224\n",
            "MAE: tensor(1425.7968, device='cuda:0')\n",
            "0.02773788385093212\n",
            "MAE: tensor(1372.3564, device='cuda:0')\n",
            "0.026596514508128166\n",
            "MAE: tensor(1410.5896, device='cuda:0')\n",
            "0.027352262288331985\n",
            "MAE: tensor(1143.0851, device='cuda:0')\n",
            "0.021892180666327477\n",
            "MAE: tensor(1649.1892, device='cuda:0')\n",
            "0.04016820341348648\n",
            "MAE: tensor(1376.6637, device='cuda:0')\n",
            "0.03159092366695404\n",
            "MAE: tensor(1377.6528, device='cuda:0')\n",
            "0.03457401320338249\n",
            "MAE: tensor(924.8051, device='cuda:0')\n",
            "0.014780069701373577\n",
            "MAE: tensor(1138.9395, device='cuda:0')\n",
            "0.025032732635736465\n",
            "MAE: tensor(1442.1080, device='cuda:0')\n",
            "0.038578033447265625\n"
          ],
          "name": "stdout"
        },
        {
          "output_type": "error",
          "ename": "KeyboardInterrupt",
          "evalue": "ignored",
          "traceback": [
            "\u001b[0;31m---------------------------------------------------------------------------\u001b[0m",
            "\u001b[0;31mKeyboardInterrupt\u001b[0m                         Traceback (most recent call last)",
            "\u001b[0;32m<ipython-input-267-2940499297f5>\u001b[0m in \u001b[0;36m<module>\u001b[0;34m()\u001b[0m\n\u001b[1;32m      1\u001b[0m \u001b[0;31m# Customize this loop however you prefer.\u001b[0m\u001b[0;34m\u001b[0m\u001b[0;34m\u001b[0m\u001b[0;34m\u001b[0m\u001b[0m\n\u001b[0;32m----> 2\u001b[0;31m \u001b[0mencoder\u001b[0m\u001b[0;34m,\u001b[0m \u001b[0mdecoder\u001b[0m\u001b[0;34m,\u001b[0m \u001b[0mtrain_losses\u001b[0m\u001b[0;34m,\u001b[0m \u001b[0mval_losses\u001b[0m \u001b[0;34m=\u001b[0m \u001b[0mtrain\u001b[0m\u001b[0;34m(\u001b[0m\u001b[0;34m)\u001b[0m\u001b[0;34m\u001b[0m\u001b[0;34m\u001b[0m\u001b[0m\n\u001b[0m",
            "\u001b[0;32m<ipython-input-266-0a53a786c8be>\u001b[0m in \u001b[0;36mtrain\u001b[0;34m(device, epochs, batch_size, prediction_window_len, input_size, hidden_size, output_size)\u001b[0m\n\u001b[1;32m     77\u001b[0m                                                   \u001b[0mencoder_outputs\u001b[0m\u001b[0;34m,\u001b[0m\u001b[0;34m\u001b[0m\u001b[0;34m\u001b[0m\u001b[0m\n\u001b[1;32m     78\u001b[0m                                                   \u001b[0mbatch_size\u001b[0m\u001b[0;34m,\u001b[0m\u001b[0;34m\u001b[0m\u001b[0;34m\u001b[0m\u001b[0m\n\u001b[0;32m---> 79\u001b[0;31m                                                   input_len + 48)\n\u001b[0m\u001b[1;32m     80\u001b[0m         \u001b[0mpredictions\u001b[0m\u001b[0;34m.\u001b[0m\u001b[0mappend\u001b[0m\u001b[0;34m(\u001b[0m\u001b[0mdec_out\u001b[0m\u001b[0;34m.\u001b[0m\u001b[0msqueeze\u001b[0m\u001b[0;34m(\u001b[0m\u001b[0;36m1\u001b[0m\u001b[0;34m)\u001b[0m\u001b[0;34m)\u001b[0m\u001b[0;34m\u001b[0m\u001b[0;34m\u001b[0m\u001b[0m\n\u001b[1;32m     81\u001b[0m       \u001b[0mpredictions\u001b[0m \u001b[0;34m=\u001b[0m \u001b[0mtorch\u001b[0m\u001b[0;34m.\u001b[0m\u001b[0mstack\u001b[0m\u001b[0;34m(\u001b[0m\u001b[0mpredictions\u001b[0m\u001b[0;34m)\u001b[0m\u001b[0;34m.\u001b[0m\u001b[0mpermute\u001b[0m\u001b[0;34m(\u001b[0m\u001b[0;36m1\u001b[0m\u001b[0;34m,\u001b[0m \u001b[0;36m0\u001b[0m\u001b[0;34m,\u001b[0m \u001b[0;36m2\u001b[0m\u001b[0;34m)\u001b[0m\u001b[0;34m.\u001b[0m\u001b[0msqueeze\u001b[0m\u001b[0;34m(\u001b[0m\u001b[0;34m-\u001b[0m\u001b[0;36m1\u001b[0m\u001b[0;34m)\u001b[0m\u001b[0;34m\u001b[0m\u001b[0;34m\u001b[0m\u001b[0m\n",
            "\u001b[0;32m/usr/local/lib/python3.6/dist-packages/torch/nn/modules/module.py\u001b[0m in \u001b[0;36m_call_impl\u001b[0;34m(self, *input, **kwargs)\u001b[0m\n\u001b[1;32m    725\u001b[0m             \u001b[0mresult\u001b[0m \u001b[0;34m=\u001b[0m \u001b[0mself\u001b[0m\u001b[0;34m.\u001b[0m\u001b[0m_slow_forward\u001b[0m\u001b[0;34m(\u001b[0m\u001b[0;34m*\u001b[0m\u001b[0minput\u001b[0m\u001b[0;34m,\u001b[0m \u001b[0;34m**\u001b[0m\u001b[0mkwargs\u001b[0m\u001b[0;34m)\u001b[0m\u001b[0;34m\u001b[0m\u001b[0;34m\u001b[0m\u001b[0m\n\u001b[1;32m    726\u001b[0m         \u001b[0;32melse\u001b[0m\u001b[0;34m:\u001b[0m\u001b[0;34m\u001b[0m\u001b[0;34m\u001b[0m\u001b[0m\n\u001b[0;32m--> 727\u001b[0;31m             \u001b[0mresult\u001b[0m \u001b[0;34m=\u001b[0m \u001b[0mself\u001b[0m\u001b[0;34m.\u001b[0m\u001b[0mforward\u001b[0m\u001b[0;34m(\u001b[0m\u001b[0;34m*\u001b[0m\u001b[0minput\u001b[0m\u001b[0;34m,\u001b[0m \u001b[0;34m**\u001b[0m\u001b[0mkwargs\u001b[0m\u001b[0;34m)\u001b[0m\u001b[0;34m\u001b[0m\u001b[0;34m\u001b[0m\u001b[0m\n\u001b[0m\u001b[1;32m    728\u001b[0m         for hook in itertools.chain(\n\u001b[1;32m    729\u001b[0m                 \u001b[0m_global_forward_hooks\u001b[0m\u001b[0;34m.\u001b[0m\u001b[0mvalues\u001b[0m\u001b[0;34m(\u001b[0m\u001b[0;34m)\u001b[0m\u001b[0;34m,\u001b[0m\u001b[0;34m\u001b[0m\u001b[0;34m\u001b[0m\u001b[0m\n",
            "\u001b[0;32m<ipython-input-255-ecda730a4816>\u001b[0m in \u001b[0;36mforward\u001b[0;34m(self, input, last_context, last_hidden, encoder_outputs, batch_size, seq_len)\u001b[0m\n\u001b[1;32m     44\u001b[0m       \u001b[0;31m# of the encoder.\u001b[0m\u001b[0;34m\u001b[0m\u001b[0;34m\u001b[0m\u001b[0;34m\u001b[0m\u001b[0m\n\u001b[1;32m     45\u001b[0m       batch_weights = self.attn(output.permute(1, 0, 2), encoder_outputs,\n\u001b[0;32m---> 46\u001b[0;31m                                 batch_size, seq_len).to(self.device)\n\u001b[0m\u001b[1;32m     47\u001b[0m \u001b[0;34m\u001b[0m\u001b[0m\n\u001b[1;32m     48\u001b[0m       \u001b[0;31m# Compute context vector for this timestep as a weighted sum of\u001b[0m\u001b[0;34m\u001b[0m\u001b[0;34m\u001b[0m\u001b[0;34m\u001b[0m\u001b[0m\n",
            "\u001b[0;32m/usr/local/lib/python3.6/dist-packages/torch/nn/modules/module.py\u001b[0m in \u001b[0;36m_call_impl\u001b[0;34m(self, *input, **kwargs)\u001b[0m\n\u001b[1;32m    725\u001b[0m             \u001b[0mresult\u001b[0m \u001b[0;34m=\u001b[0m \u001b[0mself\u001b[0m\u001b[0;34m.\u001b[0m\u001b[0m_slow_forward\u001b[0m\u001b[0;34m(\u001b[0m\u001b[0;34m*\u001b[0m\u001b[0minput\u001b[0m\u001b[0;34m,\u001b[0m \u001b[0;34m**\u001b[0m\u001b[0mkwargs\u001b[0m\u001b[0;34m)\u001b[0m\u001b[0;34m\u001b[0m\u001b[0;34m\u001b[0m\u001b[0m\n\u001b[1;32m    726\u001b[0m         \u001b[0;32melse\u001b[0m\u001b[0;34m:\u001b[0m\u001b[0;34m\u001b[0m\u001b[0;34m\u001b[0m\u001b[0m\n\u001b[0;32m--> 727\u001b[0;31m             \u001b[0mresult\u001b[0m \u001b[0;34m=\u001b[0m \u001b[0mself\u001b[0m\u001b[0;34m.\u001b[0m\u001b[0mforward\u001b[0m\u001b[0;34m(\u001b[0m\u001b[0;34m*\u001b[0m\u001b[0minput\u001b[0m\u001b[0;34m,\u001b[0m \u001b[0;34m**\u001b[0m\u001b[0mkwargs\u001b[0m\u001b[0;34m)\u001b[0m\u001b[0;34m\u001b[0m\u001b[0;34m\u001b[0m\u001b[0m\n\u001b[0m\u001b[1;32m    728\u001b[0m         for hook in itertools.chain(\n\u001b[1;32m    729\u001b[0m                 \u001b[0m_global_forward_hooks\u001b[0m\u001b[0;34m.\u001b[0m\u001b[0mvalues\u001b[0m\u001b[0;34m(\u001b[0m\u001b[0;34m)\u001b[0m\u001b[0;34m,\u001b[0m\u001b[0;34m\u001b[0m\u001b[0;34m\u001b[0m\u001b[0m\n",
            "\u001b[0;32m<ipython-input-254-4c07ed9a2758>\u001b[0m in \u001b[0;36mforward\u001b[0;34m(self, hidden, encoder_outputs, batch_size, seq_len)\u001b[0m\n\u001b[1;32m      9\u001b[0m         \u001b[0;32mfor\u001b[0m \u001b[0mi\u001b[0m \u001b[0;32min\u001b[0m \u001b[0mrange\u001b[0m\u001b[0;34m(\u001b[0m\u001b[0mbatch_size\u001b[0m\u001b[0;34m)\u001b[0m\u001b[0;34m:\u001b[0m\u001b[0;34m\u001b[0m\u001b[0;34m\u001b[0m\u001b[0m\n\u001b[1;32m     10\u001b[0m           attn_energies[i] = self.inner_product(hidden.permute(1, 0, 2)[i],\n\u001b[0;32m---> 11\u001b[0;31m                                         encoder_outputs[i])\n\u001b[0m\u001b[1;32m     12\u001b[0m         \u001b[0;32mreturn\u001b[0m \u001b[0mF\u001b[0m\u001b[0;34m.\u001b[0m\u001b[0msoftmax\u001b[0m\u001b[0;34m(\u001b[0m\u001b[0mattn_energies\u001b[0m\u001b[0;34m,\u001b[0m \u001b[0mdim\u001b[0m\u001b[0;34m=\u001b[0m\u001b[0;36m1\u001b[0m\u001b[0;34m)\u001b[0m\u001b[0;34m\u001b[0m\u001b[0;34m\u001b[0m\u001b[0m\n\u001b[1;32m     13\u001b[0m \u001b[0;34m\u001b[0m\u001b[0m\n",
            "\u001b[0;32m<ipython-input-254-4c07ed9a2758>\u001b[0m in \u001b[0;36minner_product\u001b[0;34m(self, hidden, encoder_output)\u001b[0m\n\u001b[1;32m     14\u001b[0m     \u001b[0;32mdef\u001b[0m \u001b[0minner_product\u001b[0m\u001b[0;34m(\u001b[0m\u001b[0mself\u001b[0m\u001b[0;34m,\u001b[0m \u001b[0mhidden\u001b[0m\u001b[0;34m,\u001b[0m \u001b[0mencoder_output\u001b[0m\u001b[0;34m)\u001b[0m\u001b[0;34m:\u001b[0m\u001b[0;34m\u001b[0m\u001b[0;34m\u001b[0m\u001b[0m\n\u001b[1;32m     15\u001b[0m       \u001b[0menergies\u001b[0m \u001b[0;34m=\u001b[0m \u001b[0mself\u001b[0m\u001b[0;34m.\u001b[0m\u001b[0mattn\u001b[0m\u001b[0;34m(\u001b[0m\u001b[0mencoder_output\u001b[0m\u001b[0;34m)\u001b[0m\u001b[0;34m\u001b[0m\u001b[0;34m\u001b[0m\u001b[0m\n\u001b[0;32m---> 16\u001b[0;31m       \u001b[0;32mreturn\u001b[0m \u001b[0mtorch\u001b[0m\u001b[0;34m.\u001b[0m\u001b[0mmm\u001b[0m\u001b[0;34m(\u001b[0m\u001b[0menergies\u001b[0m\u001b[0;34m,\u001b[0m \u001b[0mhidden\u001b[0m\u001b[0;34m.\u001b[0m\u001b[0mpermute\u001b[0m\u001b[0;34m(\u001b[0m\u001b[0;36m1\u001b[0m\u001b[0;34m,\u001b[0m \u001b[0;36m0\u001b[0m\u001b[0;34m)\u001b[0m\u001b[0;34m)\u001b[0m\u001b[0;34m\u001b[0m\u001b[0;34m\u001b[0m\u001b[0m\n\u001b[0m",
            "\u001b[0;31mKeyboardInterrupt\u001b[0m: "
          ]
        }
      ]
    },
    {
      "cell_type": "code",
      "metadata": {
        "id": "fhQpM7VskUWu",
        "colab": {
          "base_uri": "https://localhost:8080/",
          "height": 295
        },
        "outputId": "63a12db4-c742-4db9-a656-597163bfe838"
      },
      "source": [
        "plt.plot(train_losses)\n",
        "plt.plot(val_losses)\n",
        "\n",
        "plt.title('Model Losses')\n",
        "plt.legend(['Train', 'Val'], loc='upper left')\n",
        "\n",
        "plt.ylabel('loss')\n",
        "plt.xlabel('iteration')\n",
        "\n",
        "plt.show()"
      ],
      "execution_count": null,
      "outputs": [
        {
          "output_type": "display_data",
          "data": {
            "image/png": "[encoded data removed]",
            "text/plain": [
              "<Figure size 432x288 with 1 Axes>"
            ]
          },
          "metadata": {
            "tags": [],
            "needs_background": "light"
          }
        }
      ]
    }
  ]
}