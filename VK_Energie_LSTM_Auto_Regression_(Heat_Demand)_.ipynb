{
  "nbformat": 4,
  "nbformat_minor": 0,
  "metadata": {
    "colab": {
      "name": "VK Energie - LSTM Auto Regression (Heat Demand) .ipynb",
      "provenance": [],
      "collapsed_sections": [
        "uph2zf8vc0fQ"
      ],
      "toc_visible": true,
      "authorship_tag": "ABX9TyM0rF6+LjggdRBDZM2ZO+Mn",
      "include_colab_link": true
    },
    "kernelspec": {
      "name": "python3",
      "display_name": "Python 3"
    },
    "accelerator": "GPU"
  },
  "cells": [
    {
      "cell_type": "markdown",
      "metadata": {
        "id": "view-in-github",
        "colab_type": "text"
      },
      "source": [
        "<a href=\"https://colab.research.google.com/github/victor-armegioiu/Time-Series-Prediction/blob/main/VK_Energie_LSTM_Auto_Regression_(Heat_Demand)_.ipynb\" target=\"_parent\"><img src=\"https://colab.research.google.com/assets/colab-badge.svg\" alt=\"Open In Colab\"/></a>"
      ]
    },
    {
      "cell_type": "markdown",
      "metadata": {
        "id": "uph2zf8vc0fQ"
      },
      "source": [
        "# Praktikum Project (VK Energie - Forecasting Heat Demand)"
      ]
    },
    {
      "cell_type": "markdown",
      "metadata": {
        "id": "D4XNcEHNdAUu"
      },
      "source": [
        "# Boilerplate \n",
        "\n",
        "This section does necesary imports, loads/parses the data."
      ]
    },
    {
      "cell_type": "code",
      "metadata": {
        "id": "WxS_3Li63y8S"
      },
      "source": [
        "# Non-neural based math imports.\n",
        "import numpy as np\n",
        "\n",
        "import scipy \n",
        "from scipy import stats\n",
        "\n",
        "from sklearn.preprocessing import StandardScaler, MinMaxScaler\n",
        "from sklearn.model_selection import train_test_split"
      ],
      "execution_count": 3,
      "outputs": []
    },
    {
      "cell_type": "code",
      "metadata": {
        "id": "SE2Wellp38cv"
      },
      "source": [
        "# Data loading\n",
        "import pandas as pd\n",
        "import csv"
      ],
      "execution_count": 4,
      "outputs": []
    },
    {
      "cell_type": "code",
      "metadata": {
        "id": "oHTXJGQjO2pA"
      },
      "source": [
        "# Drawing stuff.\n",
        "import matplotlib\n",
        "import matplotlib.pyplot as plt\n",
        "%matplotlib inline\n",
        "#matplotlib.style.use('ggplot')"
      ],
      "execution_count": 5,
      "outputs": []
    },
    {
      "cell_type": "code",
      "metadata": {
        "id": "lZFD7pYxdjmZ"
      },
      "source": [
        "# Neural networks stuff.\n",
        "import torch\n",
        "from torch.autograd import Variable\n",
        "import torch.nn.functional as F\n",
        "import torch.utils.data as Data"
      ],
      "execution_count": 6,
      "outputs": []
    },
    {
      "cell_type": "code",
      "metadata": {
        "id": "-HdkIun_PXQb"
      },
      "source": [
        "df = pd.DataFrame()\n",
        "reader = csv.reader(\n",
        "    open(\"Oberbayern.csv\"), delimiter=\";\")\n",
        "\n",
        "rows = [row for row in reader]\n",
        "df = df.append(rows[1:])"
      ],
      "execution_count": 7,
      "outputs": []
    },
    {
      "cell_type": "code",
      "metadata": {
        "id": "Ir9lyF5pQmNG"
      },
      "source": [
        "df.columns = ['TimestampUtc', 'Heat Demand', 'Ambient Temperature',  \n",
        "              'Solar Irradiance']"
      ],
      "execution_count": 8,
      "outputs": []
    },
    {
      "cell_type": "code",
      "metadata": {
        "id": "QfRsrPw3VHDJ"
      },
      "source": [
        "for column in df.columns[1:]:\n",
        "  df[column] = df[column].astype(float)"
      ],
      "execution_count": 9,
      "outputs": []
    },
    {
      "cell_type": "markdown",
      "metadata": {
        "id": "bkCOz0_jdLis"
      },
      "source": [
        "# Data Analysis\n",
        "\n",
        "This section covers the following analyses on the dataset:\n",
        "\n",
        "\n",
        "*   Peaking at samples from the data.\n",
        "*   Missing values count\n",
        "*   Overall statistics on the regressors/regressands (mean, max, std, etc). Plots for the histograms.\n",
        "*   Correlation analysis - Making sure the correlations between the features and the targets make sense, as well as ensuring we don't have too strong a linear correlation between the features. \n",
        "\n"
      ]
    },
    {
      "cell_type": "code",
      "metadata": {
        "id": "7xDrqvnJQexE",
        "colab": {
          "base_uri": "https://localhost:8080/",
          "height": 419
        },
        "outputId": "0dff63c4-90fc-4ac5-fbff-b10018036396"
      },
      "source": [
        "df"
      ],
      "execution_count": null,
      "outputs": [
        {
          "output_type": "execute_result",
          "data": {
            "text/html": [
              "<div>\n",
              "<style scoped>\n",
              "    .dataframe tbody tr th:only-of-type {\n",
              "        vertical-align: middle;\n",
              "    }\n",
              "\n",
              "    .dataframe tbody tr th {\n",
              "        vertical-align: top;\n",
              "    }\n",
              "\n",
              "    .dataframe thead th {\n",
              "        text-align: right;\n",
              "    }\n",
              "</style>\n",
              "<table border=\"1\" class=\"dataframe\">\n",
              "  <thead>\n",
              "    <tr style=\"text-align: right;\">\n",
              "      <th></th>\n",
              "      <th>TimestampUtc</th>\n",
              "      <th>Heat Demand</th>\n",
              "      <th>Ambient Temperature</th>\n",
              "      <th>Solar Irradiance</th>\n",
              "    </tr>\n",
              "  </thead>\n",
              "  <tbody>\n",
              "    <tr>\n",
              "      <th>0</th>\n",
              "      <td>2020-02-26 17:00:00+01:00</td>\n",
              "      <td>5715.7325</td>\n",
              "      <td>1.370000</td>\n",
              "      <td>0.050000</td>\n",
              "    </tr>\n",
              "    <tr>\n",
              "      <th>1</th>\n",
              "      <td>2020-02-26 18:00:00+01:00</td>\n",
              "      <td>5810.5000</td>\n",
              "      <td>0.880000</td>\n",
              "      <td>0.000000</td>\n",
              "    </tr>\n",
              "    <tr>\n",
              "      <th>2</th>\n",
              "      <td>2020-02-26 19:00:00+01:00</td>\n",
              "      <td>6059.9000</td>\n",
              "      <td>0.670000</td>\n",
              "      <td>0.000000</td>\n",
              "    </tr>\n",
              "    <tr>\n",
              "      <th>3</th>\n",
              "      <td>2020-02-26 20:00:00+01:00</td>\n",
              "      <td>6114.0850</td>\n",
              "      <td>0.600000</td>\n",
              "      <td>0.000000</td>\n",
              "    </tr>\n",
              "    <tr>\n",
              "      <th>4</th>\n",
              "      <td>2020-02-26 21:00:00+01:00</td>\n",
              "      <td>6027.0525</td>\n",
              "      <td>0.540000</td>\n",
              "      <td>0.000000</td>\n",
              "    </tr>\n",
              "    <tr>\n",
              "      <th>...</th>\n",
              "      <td>...</td>\n",
              "      <td>...</td>\n",
              "      <td>...</td>\n",
              "      <td>...</td>\n",
              "    </tr>\n",
              "    <tr>\n",
              "      <th>5941</th>\n",
              "      <td>2020-11-02 12:00:00+01:00</td>\n",
              "      <td>3431.5000</td>\n",
              "      <td>16.787415</td>\n",
              "      <td>5.718750</td>\n",
              "    </tr>\n",
              "    <tr>\n",
              "      <th>5942</th>\n",
              "      <td>2020-11-02 13:00:00+01:00</td>\n",
              "      <td>3221.2500</td>\n",
              "      <td>16.833160</td>\n",
              "      <td>7.406250</td>\n",
              "    </tr>\n",
              "    <tr>\n",
              "      <th>5943</th>\n",
              "      <td>2020-11-02 14:00:00+01:00</td>\n",
              "      <td>3153.7500</td>\n",
              "      <td>16.731232</td>\n",
              "      <td>2.312500</td>\n",
              "    </tr>\n",
              "    <tr>\n",
              "      <th>5944</th>\n",
              "      <td>2020-11-02 15:00:00+01:00</td>\n",
              "      <td>2795.1250</td>\n",
              "      <td>16.396759</td>\n",
              "      <td>7.906250</td>\n",
              "    </tr>\n",
              "    <tr>\n",
              "      <th>5945</th>\n",
              "      <td>2020-11-02 16:00:00+01:00</td>\n",
              "      <td>1974.0000</td>\n",
              "      <td>16.483002</td>\n",
              "      <td>1.140625</td>\n",
              "    </tr>\n",
              "  </tbody>\n",
              "</table>\n",
              "<p>5946 rows × 4 columns</p>\n",
              "</div>"
            ],
            "text/plain": [
              "                   TimestampUtc  ...  Solar Irradiance\n",
              "0     2020-02-26 17:00:00+01:00  ...          0.050000\n",
              "1     2020-02-26 18:00:00+01:00  ...          0.000000\n",
              "2     2020-02-26 19:00:00+01:00  ...          0.000000\n",
              "3     2020-02-26 20:00:00+01:00  ...          0.000000\n",
              "4     2020-02-26 21:00:00+01:00  ...          0.000000\n",
              "...                         ...  ...               ...\n",
              "5941  2020-11-02 12:00:00+01:00  ...          5.718750\n",
              "5942  2020-11-02 13:00:00+01:00  ...          7.406250\n",
              "5943  2020-11-02 14:00:00+01:00  ...          2.312500\n",
              "5944  2020-11-02 15:00:00+01:00  ...          7.906250\n",
              "5945  2020-11-02 16:00:00+01:00  ...          1.140625\n",
              "\n",
              "[5946 rows x 4 columns]"
            ]
          },
          "metadata": {
            "tags": []
          },
          "execution_count": 8
        }
      ]
    },
    {
      "cell_type": "code",
      "metadata": {
        "id": "22k6oXE1RiyA",
        "colab": {
          "base_uri": "https://localhost:8080/"
        },
        "outputId": "91b52d92-def7-446f-d49d-00bbf73e9525"
      },
      "source": [
        "df.isnull().sum()"
      ],
      "execution_count": null,
      "outputs": [
        {
          "output_type": "execute_result",
          "data": {
            "text/plain": [
              "TimestampUtc           0\n",
              "Heat Demand            0\n",
              "Ambient Temperature    0\n",
              "Solar Irradiance       0\n",
              "dtype: int64"
            ]
          },
          "metadata": {
            "tags": []
          },
          "execution_count": 12
        }
      ]
    },
    {
      "cell_type": "code",
      "metadata": {
        "id": "48QbG6f1X4ma",
        "colab": {
          "base_uri": "https://localhost:8080/"
        },
        "outputId": "77083c6a-50ab-475c-910e-18432bc0dc2a"
      },
      "source": [
        "df.columns"
      ],
      "execution_count": null,
      "outputs": [
        {
          "output_type": "execute_result",
          "data": {
            "text/plain": [
              "Index(['TimestampUtc', 'Heat Demand', 'Ambient Temperature',\n",
              "       'Solar Irradiance'],\n",
              "      dtype='object')"
            ]
          },
          "metadata": {
            "tags": []
          },
          "execution_count": 36
        }
      ]
    },
    {
      "cell_type": "code",
      "metadata": {
        "id": "_2CO-n7qQj_G"
      },
      "source": [
        "# Compute and store pairwise correlations between features and\n",
        "# targets.\n",
        "correlations = {}\n",
        "for col1 in df.columns[1:]:\n",
        "  for col2 in df.columns[1:]:\n",
        "    if col1 != col2:\n",
        "      r2_correlation_coeff = stats.pearsonr(df[col1], df[col2])[0]\n",
        "      correlations[col1, col2] = r2_correlation_coeff"
      ],
      "execution_count": null,
      "outputs": []
    },
    {
      "cell_type": "code",
      "metadata": {
        "id": "4tMqblL4Yk3Z",
        "colab": {
          "base_uri": "https://localhost:8080/",
          "height": 851
        },
        "outputId": "2cc2107d-22c6-461a-9441-92f2926fdee6"
      },
      "source": [
        "# Plot all pairwise features/targets/\n",
        "relevant_columns = df.columns[1:] \n",
        "\n",
        "for i in range(len(relevant_columns)):\n",
        "  for j in range(i + 1, len(relevant_columns)):\n",
        "    col_i, col_j = relevant_columns[i], relevant_columns[j]\n",
        "    plt.scatter(df[col_i], df[col_j])\n",
        "    plt.xlabel(col_i)\n",
        "    plt.ylabel(col_j)\n",
        "\n",
        "    r2_correlation_coeff = round(correlations[col_i, col_j], 3)\n",
        "    plt.title('R2 correlation coefficient: {}'.format(r2_correlation_coeff))\n",
        "    plt.show()\n"
      ],
      "execution_count": null,
      "outputs": [
        {
          "output_type": "display_data",
          "data": {
            "image/png": "[encoded data removed]",
            "text/plain": [
              "<Figure size 432x288 with 1 Axes>"
            ]
          },
          "metadata": {
            "tags": [],
            "needs_background": "light"
          }
        },
        {
          "output_type": "display_data",
          "data": {
            "image/png": "[encoded data removed]",
            "text/plain": [
              "<Figure size 432x288 with 1 Axes>"
            ]
          },
          "metadata": {
            "tags": [],
            "needs_background": "light"
          }
        },
        {
          "output_type": "display_data",
          "data": {
            "image/png": "[encoded data removed]",
            "text/plain": [
              "<Figure size 432x288 with 1 Axes>"
            ]
          },
          "metadata": {
            "tags": [],
            "needs_background": "light"
          }
        }
      ]
    },
    {
      "cell_type": "code",
      "metadata": {
        "id": "wnUC6mU6Vl9y",
        "colab": {
          "base_uri": "https://localhost:8080/",
          "height": 1000
        },
        "outputId": "d7394a3b-025e-4043-ee67-24aacea52ef6"
      },
      "source": [
        "for column in df.columns[1:]:\n",
        "  print(df[column].describe())\n",
        "  plt.hist(df[column], bins=500)\n",
        "  plt.xlabel(column)\n",
        "  plt.ylabel('Counts')\n",
        "  plt.show()\n",
        "  print()"
      ],
      "execution_count": null,
      "outputs": [
        {
          "output_type": "stream",
          "text": [
            "count    5946.000000\n",
            "mean     2753.058015\n",
            "std      1530.114730\n",
            "min        43.000000\n",
            "25%      1514.583328\n",
            "50%      2222.491250\n",
            "75%      3754.158808\n",
            "max      9681.533203\n",
            "Name: Heat Demand, dtype: float64\n"
          ],
          "name": "stdout"
        },
        {
          "output_type": "display_data",
          "data": {
            "image/png": "[encoded data removed]",
            "text/plain": [
              "<Figure size 432x288 with 1 Axes>"
            ]
          },
          "metadata": {
            "tags": [],
            "needs_background": "light"
          }
        },
        {
          "output_type": "stream",
          "text": [
            "\n",
            "count    5946.000000\n",
            "mean       13.007976\n",
            "std         6.339653\n",
            "min        -5.020000\n",
            "25%         8.600000\n",
            "50%        13.198389\n",
            "75%        17.370000\n",
            "max        31.371857\n",
            "Name: Ambient Temperature, dtype: float64\n"
          ],
          "name": "stdout"
        },
        {
          "output_type": "display_data",
          "data": {
            "image/png": "[encoded data removed]",
            "text/plain": [
              "<Figure size 432x288 with 1 Axes>"
            ]
          },
          "metadata": {
            "tags": [],
            "needs_background": "light"
          }
        },
        {
          "output_type": "stream",
          "text": [
            "\n",
            "count    5946.000000\n",
            "mean      105.020707\n",
            "std       184.026273\n",
            "min        -0.260000\n",
            "25%         0.000000\n",
            "50%         1.812500\n",
            "75%       131.907500\n",
            "max       787.470000\n",
            "Name: Solar Irradiance, dtype: float64\n"
          ],
          "name": "stdout"
        },
        {
          "output_type": "display_data",
          "data": {
            "image/png": "[encoded data removed]",
            "text/plain": [
              "<Figure size 432x288 with 1 Axes>"
            ]
          },
          "metadata": {
            "tags": [],
            "needs_background": "light"
          }
        },
        {
          "output_type": "stream",
          "text": [
            "\n"
          ],
          "name": "stdout"
        }
      ]
    },
    {
      "cell_type": "markdown",
      "metadata": {
        "id": "duPE-KIhd9Cj"
      },
      "source": [
        "# Building datasets for training\n",
        "\n",
        "This section covers the setup needed for creating datasets than can be fed to Pytorch NNs. We also do some preprocessing shift/scale our inputs."
      ]
    },
    {
      "cell_type": "code",
      "metadata": {
        "id": "SCBebg5ZoDvN"
      },
      "source": [
        "def DfTrainTestSplitter(df, test_proportion=0.2, as_numpy=True):\n",
        "  \"\"\"Split dataframe into train and test data.\n",
        "  \n",
        "  In order to have the test distribution as close as possible to th\n",
        "  train distribution, we split the initial datafram into 4 chunks,\n",
        "  one corresponding from each season.\n",
        "\n",
        "  We build the test set by concatenating random samples from each season.\n",
        "  \"\"\"\n",
        "  cnt_test = int(test_proportion * len(df))\n",
        "  season_cnt = 4\n",
        "  df_train, df_test = None, None\n",
        "\n",
        "  for i in range(season_cnt):\n",
        "    left_idx = i * int(len(df) / season_cnt)\n",
        "    right_idx = min(int(left_idx + cnt_test // 4.0), len(df) - 2)\n",
        "    \n",
        "    if df_test is None:\n",
        "      df_test = df[left_idx: right_idx + 1]\n",
        "    else:\n",
        "      df_test = pd.concat([df_test, df[left_idx: right_idx + 1]])\n",
        "\n",
        "  df_train = pd.concat([df, df_test]).drop_duplicates(keep=False)\n",
        "  if as_numpy:\n",
        "   return df_train.to_numpy()[:, 1:],  df_test.to_numpy()[:, 1:]\n",
        "  return df_train, df_test"
      ],
      "execution_count": 50,
      "outputs": []
    },
    {
      "cell_type": "code",
      "metadata": {
        "id": "eT0h10RvgG2k"
      },
      "source": [
        "train_data, test_data = DfTrainTestSplitter(df, test_proportion=0.1)\n",
        "X_train, y_train = (train_data[:, [1, 2]].astype(float),\n",
        "                    train_data[:, 0].astype(float))\n",
        "\n",
        "X_test, y_test = (test_data[:, [1, 2]].astype(float),\n",
        "                  test_data[:, 0].astype(float))"
      ],
      "execution_count": 51,
      "outputs": []
    },
    {
      "cell_type": "code",
      "metadata": {
        "id": "qAhcM4vPgZBE",
        "colab": {
          "base_uri": "https://localhost:8080/"
        },
        "outputId": "34784d85-bc14-4780-d9e2-326851dc2430"
      },
      "source": [
        "X_train.shape, X_test.shape"
      ],
      "execution_count": 52,
      "outputs": [
        {
          "output_type": "execute_result",
          "data": {
            "text/plain": [
              "((5350, 2), (596, 2))"
            ]
          },
          "metadata": {
            "tags": []
          },
          "execution_count": 52
        }
      ]
    },
    {
      "cell_type": "code",
      "metadata": {
        "id": "0WoIeHxbpzcX"
      },
      "source": [
        "scaler = MinMaxScaler().fit(X_train)"
      ],
      "execution_count": 53,
      "outputs": []
    },
    {
      "cell_type": "code",
      "metadata": {
        "id": "VQZtL6nxglLY"
      },
      "source": [
        "# Use the same scaler in order to ensure that we don't inject knowledge\n",
        "# about the test distribution in our training biases.\n",
        "X_train = scaler.transform(X_train)\n",
        "X_test = scaler.transform(X_test)"
      ],
      "execution_count": 54,
      "outputs": []
    },
    {
      "cell_type": "code",
      "metadata": {
        "id": "lIUpN7Vkwj8A",
        "colab": {
          "base_uri": "https://localhost:8080/",
          "height": 294
        },
        "outputId": "e7f4a3a3-cb93-4cf5-8ea1-c848c400c764"
      },
      "source": [
        "fig, (ax1, ax2) = plt.subplots(1, 2)\n",
        "fig.suptitle('Inputs Train/Test distributions')\n",
        "ax1.hist(X_train, bins=4)\n",
        "ax2.hist(X_test, bins=4)\n",
        "plt.show()"
      ],
      "execution_count": 55,
      "outputs": [
        {
          "output_type": "display_data",
          "data": {
            "image/png": "[encoded data removed]",
            "text/plain": [
              "<Figure size 432x288 with 2 Axes>"
            ]
          },
          "metadata": {
            "tags": [],
            "needs_background": "light"
          }
        }
      ]
    },
    {
      "cell_type": "code",
      "metadata": {
        "id": "3ldHY_xK2Y9O"
      },
      "source": [
        "# Scale both dataset by `y_train_max`. Same reasoning\n",
        "# as in using the same scaler on inputs. This is done to avoid\n",
        "# exploding gradients.\n",
        "y_train_max = y_train.max()\n",
        "y_train /= y_train_max\n",
        "y_test /= y_train_max"
      ],
      "execution_count": 56,
      "outputs": []
    },
    {
      "cell_type": "code",
      "metadata": {
        "id": "VEdTaSi9w5iC",
        "colab": {
          "base_uri": "https://localhost:8080/",
          "height": 294
        },
        "outputId": "f955eaa3-9ec9-4ae4-d971-c012958ca8d4"
      },
      "source": [
        "fig, (ax1, ax2) = plt.subplots(1, 2)\n",
        "fig.suptitle('Labels Train/Test distributions')\n",
        "ax1.hist(y_train, bins=100)\n",
        "ax2.hist(y_test, bins=100)\n",
        "plt.show()"
      ],
      "execution_count": 57,
      "outputs": [
        {
          "output_type": "display_data",
          "data": {
            "image/png": "[encoded data removed]",
            "text/plain": [
              "<Figure size 432x288 with 2 Axes>"
            ]
          },
          "metadata": {
            "tags": [],
            "needs_background": "light"
          }
        }
      ]
    },
    {
      "cell_type": "markdown",
      "metadata": {
        "id": "yOtg4Bb3lVjN"
      },
      "source": [
        "# Batching Logic \n",
        "\n",
        "This section defines the necessary utilities for producing batches of variable length sequences."
      ]
    },
    {
      "cell_type": "code",
      "metadata": {
        "id": "tWXCuJmTXgYp"
      },
      "source": [
        "def GetInitialBatchIndex(X, input_len, prediction_window_len=48):\n",
        "  \"\"\" \n",
        "      Returns a random index from which to sample `input_len` inputs.\n",
        "      This was written separately so that we can test that it produces an\n",
        "      even distribution among potential starting indices.\n",
        "  \"\"\"\n",
        "  left_idx = np.random.randint(\n",
        "      low=0,\n",
        "      high=max(len(X) - prediction_window_len * 2 - input_len - 1, 1))\n",
        "  right_idx = left_idx + input_len - 1\n",
        "  return left_idx"
      ],
      "execution_count": 18,
      "outputs": []
    },
    {
      "cell_type": "code",
      "metadata": {
        "id": "BaOJOfx0bhHs",
        "colab": {
          "base_uri": "https://localhost:8080/",
          "height": 265
        },
        "outputId": "0f89b0ff-c11b-4232-8cf2-f936a21cd339"
      },
      "source": [
        "# Confirm that starting indices for bathches are evenly distributed.\n",
        "no_trials = 100000\n",
        "start_indices_samples = []\n",
        "\n",
        "for _ in range(no_trials):\n",
        "  start_indices_samples.append(GetInitialBatchIndex(X_train, 15))\n",
        "\n",
        "plt.hist(start_indices_samples)\n",
        "plt.show()"
      ],
      "execution_count": 19,
      "outputs": [
        {
          "output_type": "display_data",
          "data": {
            "image/png": "[encoded data removed]",
            "text/plain": [
              "<Figure size 432x288 with 1 Axes>"
            ]
          },
          "metadata": {
            "tags": [],
            "needs_background": "light"
          }
        }
      ]
    },
    {
      "cell_type": "code",
      "metadata": {
        "id": "jCUO69OREbVh"
      },
      "source": [
        "def GetSample(y, input_len, prediction_window_len=48, use_noise_reg=False):\n",
        "  \"\"\"Return a single input sequence and its respective targets.\n",
        "  \n",
        "  Args:\n",
        "    y: np.array from which to extract the regression targets corresponding\n",
        "       to the selected inputs.\n",
        "    prediction_window_len: length of the prediction window, which describes\n",
        "      how many predictions we have to do for a given input sequence.\n",
        "    use_noise_reg: bool indication whether to inject the labels with noise.\n",
        "\n",
        "  Return:\n",
        "    y_input_tensor: tensorized inputs.\n",
        "    y_target_tensor: tensorized targets.\n",
        "\n",
        "  Note, since we can use forecasts, we also include future data in our\n",
        "  sequences.\n",
        "  \"\"\"\n",
        "  left_idx = GetInitialBatchIndex(y, input_len, prediction_window_len)\n",
        "  right_idx = left_idx + input_len - 1\n",
        "\n",
        "  # Add `prediction_window_len` to our right index, since we can use future\n",
        "  # values as well, given that we always expect to have forecasts availabel.\n",
        "  y_input_tensor = torch.Tensor(\n",
        "      y[left_idx : right_idx + 1])\n",
        "  y_target_tensor = torch.Tensor(\n",
        "      y[right_idx + 1 : prediction_window_len + right_idx + 1])\n",
        "\n",
        "  return (y_input_tensor,\n",
        "          InjectGaussianNoise(y_target_tensor) \n",
        "          if use_noise_reg else y_target_tensor)"
      ],
      "execution_count": 20,
      "outputs": []
    },
    {
      "cell_type": "code",
      "metadata": {
        "id": "2swVcYlWkhRW"
      },
      "source": [
        "def GetBatch(y, batch_size, input_len, device, prediction_window_len=48,\n",
        "             use_noise_reg=False):\n",
        "  y_inputs, y_targets = [], []\n",
        "  for _ in range(batch_size):\n",
        "    y_input_tensor, y_target_tensor = GetSample(y, \n",
        "                                   input_len,\n",
        "                                   prediction_window_len,\n",
        "                                   use_noise_reg)\n",
        "    y_inputs.append(y_input_tensor)\n",
        "    y_targets.append(y_target_tensor)\n",
        "  return (torch.stack(y_inputs).to(device),\n",
        "          torch.stack(y_targets).to(device))"
      ],
      "execution_count": 21,
      "outputs": []
    },
    {
      "cell_type": "code",
      "metadata": {
        "colab": {
          "base_uri": "https://localhost:8080/"
        },
        "id": "0nLPp6uKT9eS",
        "outputId": "22693a31-f1c6-40d2-cc27-0a4aef0561c4"
      },
      "source": [
        "y1, y2 = GetBatch(y_train, 12, 5, 'cpu')\n",
        "y1.shape, y2.shape"
      ],
      "execution_count": 108,
      "outputs": [
        {
          "output_type": "execute_result",
          "data": {
            "text/plain": [
              "(torch.Size([12, 5]), torch.Size([12, 48]))"
            ]
          },
          "metadata": {
            "tags": []
          },
          "execution_count": 108
        }
      ]
    },
    {
      "cell_type": "markdown",
      "metadata": {
        "id": "ic5KL4tghLas"
      },
      "source": [
        "# Neural Models Definitions\n",
        "\n",
        "This section covers defining the classes needed for our regression models:\n",
        "\n",
        "We shall employ a seq2seq approach, where we unroll a Luong attention based decoder step by step, instead of predicting everything at a time.\n",
        "\n"
      ]
    },
    {
      "cell_type": "code",
      "metadata": {
        "id": "ACG1HJkTms5n"
      },
      "source": [
        "def InjectGaussianNoise(X, isotropic_std=0.1):\n",
        "  return torch.normal(mean=X, std=isotropic_std)"
      ],
      "execution_count": 20,
      "outputs": []
    },
    {
      "cell_type": "code",
      "metadata": {
        "id": "G0yn9_oW2d4y"
      },
      "source": [
        "class EncoderRNN(torch.nn.Module):\n",
        "    def __init__(self, input_size, hidden_size, n_layers=1):\n",
        "        super(EncoderRNN, self).__init__()\n",
        "        \n",
        "        self.input_size = input_size\n",
        "        self.hidden_size = hidden_size\n",
        "        self.n_layers = n_layers\n",
        "        \n",
        "        self.embedding = torch.nn.Linear(input_size, hidden_size)\n",
        "        self.gru = torch.nn.GRU(hidden_size, hidden_size, n_layers, True, \n",
        "                                batch_first=True)\n",
        "        \n",
        "    def forward(self, inputs, hidden=None):\n",
        "        embedded = self.embedding(inputs)\n",
        "        output, hidden = self.gru(embedded)\n",
        "        return output, hidden"
      ],
      "execution_count": 22,
      "outputs": []
    },
    {
      "cell_type": "markdown",
      "metadata": {
        "id": "qxN44W3ftd1W"
      },
      "source": [
        "# Training/Testing Setup\n",
        "\n",
        "This section covers the training procedure, records training metrics, plots train/test loss curves, and shows how to do inference with a trained model."
      ]
    },
    {
      "cell_type": "code",
      "metadata": {
        "id": "wlK3_EmBs2Jm"
      },
      "source": [
        "def _GetDevice():\n",
        "  return torch.device('cuda') if torch.cuda.is_available() else 'cpu'"
      ],
      "execution_count": 23,
      "outputs": []
    },
    {
      "cell_type": "code",
      "metadata": {
        "id": "MbW1w3_Nr0zN"
      },
      "source": [
        "def train(device=_GetDevice(),\n",
        "          epochs=30,\n",
        "          batch_size=32,\n",
        "          prediction_window_len=24,\n",
        "          input_size=1,\n",
        "          hidden_size=24):\n",
        "\n",
        "  # Encoder, optimizer instantiations.\n",
        "  encoder = EncoderRNN(input_size=input_size,\n",
        "                       hidden_size=hidden_size).to(device)\n",
        "\n",
        "  enc_optimizer = torch.optim.Adam(encoder.parameters(), lr=0.001)\n",
        "  # Regression loss.\n",
        "  mse_loss = torch.nn.MSELoss() \n",
        "\n",
        "  iterations_per_epoch = len(df) // batch_size\n",
        "  train_losses, val_losses = [], []\n",
        "  print(epochs, iterations_per_epoch)\n",
        "\n",
        "  for epoch in range(epochs):\n",
        "    for iter in range(iterations_per_epoch):\n",
        "      enc_optimizer.zero_grad()\n",
        "\n",
        "      # Sample varying sequence lengths to use for prediction.\n",
        "      input_len = np.random.randint(low=2, high=12)\n",
        "      inputs, targets = GetBatch(y_train,\n",
        "                                batch_size,\n",
        "                                input_len,\n",
        "                                device,\n",
        "                                prediction_window_len)\n",
        "      \n",
        "      predictions = torch.mean(encoder(inputs[..., None])[0], dim=1)\n",
        "\n",
        "      # Compute and record MSE loss.\n",
        "      train_loss = mse_loss(predictions, targets)\n",
        "      train_losses.append(train_loss)\n",
        "\n",
        "      # Backprop and update parameters.\n",
        "      train_loss.backward()\n",
        "      enc_optimizer.step()\n",
        "      \n",
        "      with torch.no_grad():\n",
        "        input, targets = GetBatch(y_test, batch_size,\n",
        "                                  input_len, device, prediction_window_len)\n",
        "        predictions = torch.mean(encoder(inputs[..., None])[0], dim=1)\n",
        "\n",
        "        val_loss = mse_loss(predictions, targets)\n",
        "        val_losses.append(val_loss)\n",
        "\n",
        "      if epoch % 10 == 0 and iter == iterations_per_epoch % 5 == 0:\n",
        "        mae_loss = torch.nn.L1Loss()(predictions, targets) * y_train_max\n",
        "\n",
        "        print('Epoch:', epoch)\n",
        "        print('Train loss:', train_loss.item())\n",
        "        print('Val loss:', val_loss.item())\n",
        "        print('Val loss:', mae_loss.item())\n",
        "\n",
        "        print('\\n')\n",
        "  return encoder, train_losses, val_losses"
      ],
      "execution_count": 62,
      "outputs": []
    },
    {
      "cell_type": "code",
      "metadata": {
        "colab": {
          "base_uri": "https://localhost:8080/"
        },
        "id": "n02BWBTGtMOl",
        "outputId": "0fd7b685-a647-4048-a49e-c34ec8ee8176"
      },
      "source": [
        "# Customize this loop however you prefer.\n",
        "encoder, train_losses, val_losses = train()"
      ],
      "execution_count": 63,
      "outputs": [
        {
          "output_type": "stream",
          "text": [
            "30 185\n",
            "Epoch: 0\n",
            "Train loss: 0.16321513056755066\n",
            "Val loss: 0.1413751095533371\n",
            "Val loss: 2864.18896484375\n",
            "\n",
            "\n",
            "Epoch: 10\n",
            "Train loss: 0.004984874278306961\n",
            "Val loss: 0.04585590958595276\n",
            "Val loss: 1597.486572265625\n",
            "\n",
            "\n",
            "Epoch: 20\n",
            "Train loss: 0.006965005304664373\n",
            "Val loss: 0.04365427419543266\n",
            "Val loss: 1647.28759765625\n",
            "\n",
            "\n"
          ],
          "name": "stdout"
        }
      ]
    },
    {
      "cell_type": "code",
      "metadata": {
        "id": "fhQpM7VskUWu",
        "colab": {
          "base_uri": "https://localhost:8080/",
          "height": 295
        },
        "outputId": "cc662fea-b8f8-4f3b-a9a6-5b5982cee763"
      },
      "source": [
        "plt.plot(train_losses)\n",
        "plt.plot(val_losses)\n",
        "\n",
        "plt.title('Model Losses')\n",
        "plt.legend(['Train', 'Val'], loc='upper left')\n",
        "\n",
        "plt.ylabel('loss')\n",
        "plt.xlabel('iteration')\n",
        "\n",
        "plt.show()"
      ],
      "execution_count": 32,
      "outputs": [
        {
          "output_type": "display_data",
          "data": {
            "image/png": "[encoded data removed]",
            "text/plain": [
              "<Figure size 432x288 with 1 Axes>"
            ]
          },
          "metadata": {
            "tags": [],
            "needs_background": "light"
          }
        }
      ]
    },
    {
      "cell_type": "code",
      "metadata": {
        "id": "cTWDU4kt5n4L",
        "colab": {
          "base_uri": "https://localhost:8080/",
          "height": 282
        },
        "outputId": "84845a6c-39b3-4aa9-96de-6ca2bae8d3f2"
      },
      "source": [
        "with torch.no_grad():\n",
        "  input_len = np.random.randint(low=2, high=12)\n",
        "  print('Input length:', input_len)\n",
        "  inputs, targets = GetBatch(y_test,\n",
        "                             batch_size=1,\n",
        "                             input_len=input_len,\n",
        "                             device=_GetDevice(),\n",
        "                             prediction_window_len=24)\n",
        "        \n",
        "  predictions = torch.mean(encoder(inputs[..., None])[0], dim=1)\n",
        "  plt.plot(predictions.cpu().numpy()[0], label='Predictions')\n",
        "  plt.plot(targets.cpu().numpy()[0], label='Targets')\n",
        "  plt.legend()\n",
        "  plt.show()"
      ],
      "execution_count": 49,
      "outputs": [
        {
          "output_type": "stream",
          "text": [
            "Input length: 3\n"
          ],
          "name": "stdout"
        },
        {
          "output_type": "display_data",
          "data": {
            "image/png": "[encoded data removed]",
            "text/plain": [
              "<Figure size 432x288 with 1 Axes>"
            ]
          },
          "metadata": {
            "tags": [],
            "needs_background": "light"
          }
        }
      ]
    }
  ]
}